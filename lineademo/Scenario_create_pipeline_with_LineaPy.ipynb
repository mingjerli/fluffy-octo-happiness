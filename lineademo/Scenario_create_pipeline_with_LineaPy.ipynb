{
 "cells": [
  {
   "cell_type": "code",
   "execution_count": null,
   "metadata": {
    "id": "SzHi1FYupHS8"
   },
   "outputs": [],
   "source": [
    "%%capture\n",
    "!pip install --upgrade ipython"
   ]
  },
  {
   "cell_type": "code",
   "execution_count": null,
   "metadata": {
    "id": "sWs9Ty1fr-ix"
   },
   "outputs": [],
   "source": [
    "exit()"
   ]
  },
  {
   "cell_type": "code",
   "execution_count": null,
   "metadata": {
    "id": "EwEpHiR9r6Wo"
   },
   "outputs": [],
   "source": [
    "%%capture\n",
    "!pip install lineapy"
   ]
  },
  {
   "cell_type": "code",
   "execution_count": null,
   "metadata": {
    "colab": {
     "base_uri": "https://localhost:8080/"
    },
    "id": "aDeGvxChooPC",
    "outputId": "378c08cf-d859-4c3c-a066-bb74f338520f"
   },
   "outputs": [],
   "source": [
    "%load_ext lineapy"
   ]
  },
  {
   "cell_type": "code",
   "execution_count": 1,
   "metadata": {
    "id": "pK9HKAGvpiuo"
   },
   "outputs": [
    {
     "data": {
      "text/html": [
       "<pre style=\"white-space:pre;overflow-x:auto;line-height:normal;font-family:Menlo,'DejaVu Sans Mono',consolas,'Courier New',monospace\">No .linea folder found. Creating a new folder in <span style=\"color: #800080; text-decoration-color: #800080\">/home/</span><span style=\"color: #ff00ff; text-decoration-color: #ff00ff\">mlee</span> directory.                       \n",
       "</pre>\n"
      ],
      "text/plain": [
       "No .linea folder found. Creating a new folder in \u001b[35m/home/\u001b[0m\u001b[95mmlee\u001b[0m directory.                       \n"
      ]
     },
     "metadata": {},
     "output_type": "display_data"
    }
   ],
   "source": [
    "import lineapy"
   ]
  },
  {
   "cell_type": "markdown",
   "metadata": {
    "id": "aUMTcczWmiuj"
   },
   "source": [
    "# Use LineaPy to create a simple ML/data pipeline\n",
    "\n",
    "## Scenario\n",
    "\n",
    "You are a data scientist or a data analyst who \n",
    "* creates a working pipeline that is updateing the dashboard with latest data\n",
    "* creates a data pipeline to prepare data for your downstream model developing \n",
    "\n",
    "You are expecting to **reexecute the pipeline** at regular or ad-hoc basis.\n",
    "\n",
    "However, you may not have the proper engineering support to setup the pipeline for you or the pipeline is not for production purpose(like data prepartion for your experinment).\n",
    "\n",
    "## What might happen next?\n",
    "\n",
    "* You spend a lot time to copy and paste your code to make your pipeline working in the orchestration systems or job schedulers (cron, Apache Airflow , prefect ...).\n",
    "* It takes forever to make your pipeline working and you end up set a physical alarm to remind your manually executing your pipeline whenever you need it. \n",
    "* You make some change on your pipeline and now you find out you need to restart above processes again.\n",
    "\n",
    "## What problems LineaPy is trying to solve here?\n",
    "\n",
    "LineaPy is trying to help setting up a pipeline with minimal manually work with three lines of code.\n",
    "\n",
    "```\n",
    "import lineapy\n",
    "\n",
    "........................\n",
    ".\n",
    ". your original notebook\n",
    ". \n",
    "........................\n",
    "\n",
    "lineapy.save(object, 'artifact name')\n",
    "lineapy.to_pipeline(['artiffact name'], )\n",
    "\n",
    "..........................\n",
    "\n",
    "\n",
    "```\n",
    "\n",
    "This enable data scientists to produce \n",
    "For some orchestration systems, like Apache Airflow, LineaPy is able to create and update the pipeline without any manual operation.\n",
    "\n",
    "\n",
    "```\n",
    "import lineapy\n",
    "\n",
    "........................\n",
    ".\n",
    ". your original notebook\n",
    ". \n",
    "........................\n",
    "\n",
    "artifact = lineapy.save()  # Return an artifact object\n",
    "artifact.to_pipeline()\n",
    "```\n",
    "\n",
    "\n",
    "\n",
    "## What will we learn in rest of the notebook?\n",
    "\n",
    "In this demo, we are going to load the iris data features as a four columns data frame and do an aggregation to mimic the dashboard updating process.\n",
    "\n",
    "During this process, we will use a minimal example to create a LineaPy artifact, then we will create a pipeline that produces the artifact. \n",
    "\n",
    "In the end, we will demonstrate \n",
    "\n",
    "* How to use the to_pipeline() to .\n",
    "  * create a native pipeline as python script and setup in crontab.\n",
    "  * create a native Airflow DAG.\n",
    "\n",
    "This demonstrates that LineaPy can help data scientists save time on pipeline management and focus more on insight generation by using the pipeline creating feature.\n",
    "\n"
   ]
  },
  {
   "cell_type": "markdown",
   "metadata": {
    "id": "ZuB5tlSDQC47"
   },
   "source": [
    "## Setup the demo"
   ]
  },
  {
   "cell_type": "code",
   "execution_count": 2,
   "metadata": {
    "colab": {
     "base_uri": "https://localhost:8080/",
     "height": 206
    },
    "id": "JM12axJC2_6I",
    "outputId": "5cdb6688-ab2e-4cd6-ca56-e8e591b11805"
   },
   "outputs": [
    {
     "data": {
      "text/html": [
       "<pre style=\"white-space:pre;overflow-x:auto;line-height:normal;font-family:Menlo,'DejaVu Sans Mono',consolas,'Courier New',monospace\">NumExpr defaulting to <span style=\"color: #008080; text-decoration-color: #008080; font-weight: bold\">8</span> threads.                                                             \n",
       "</pre>\n"
      ],
      "text/plain": [
       "NumExpr defaulting to \u001b[1;36m8\u001b[0m threads.                                                             \n"
      ]
     },
     "metadata": {},
     "output_type": "display_data"
    },
    {
     "data": {
      "text/html": [
       "<div>\n",
       "<style scoped>\n",
       "    .dataframe tbody tr th:only-of-type {\n",
       "        vertical-align: middle;\n",
       "    }\n",
       "\n",
       "    .dataframe tbody tr th {\n",
       "        vertical-align: top;\n",
       "    }\n",
       "\n",
       "    .dataframe thead th {\n",
       "        text-align: right;\n",
       "    }\n",
       "</style>\n",
       "<table border=\"1\" class=\"dataframe\">\n",
       "  <thead>\n",
       "    <tr style=\"text-align: right;\">\n",
       "      <th></th>\n",
       "      <th>sepal length (cm)</th>\n",
       "      <th>sepal width (cm)</th>\n",
       "      <th>petal length (cm)</th>\n",
       "      <th>petal width (cm)</th>\n",
       "      <th>target</th>\n",
       "    </tr>\n",
       "  </thead>\n",
       "  <tbody>\n",
       "    <tr>\n",
       "      <th>0</th>\n",
       "      <td>5.1</td>\n",
       "      <td>3.5</td>\n",
       "      <td>1.4</td>\n",
       "      <td>0.2</td>\n",
       "      <td>setosa</td>\n",
       "    </tr>\n",
       "    <tr>\n",
       "      <th>1</th>\n",
       "      <td>4.9</td>\n",
       "      <td>3.0</td>\n",
       "      <td>1.4</td>\n",
       "      <td>0.2</td>\n",
       "      <td>setosa</td>\n",
       "    </tr>\n",
       "    <tr>\n",
       "      <th>2</th>\n",
       "      <td>4.7</td>\n",
       "      <td>3.2</td>\n",
       "      <td>1.3</td>\n",
       "      <td>0.2</td>\n",
       "      <td>setosa</td>\n",
       "    </tr>\n",
       "    <tr>\n",
       "      <th>3</th>\n",
       "      <td>4.6</td>\n",
       "      <td>3.1</td>\n",
       "      <td>1.5</td>\n",
       "      <td>0.2</td>\n",
       "      <td>setosa</td>\n",
       "    </tr>\n",
       "    <tr>\n",
       "      <th>4</th>\n",
       "      <td>5.0</td>\n",
       "      <td>3.6</td>\n",
       "      <td>1.4</td>\n",
       "      <td>0.2</td>\n",
       "      <td>setosa</td>\n",
       "    </tr>\n",
       "  </tbody>\n",
       "</table>\n",
       "</div>"
      ],
      "text/plain": [
       "   sepal length (cm)  sepal width (cm)  petal length (cm)  petal width (cm)  \\\n",
       "0                5.1               3.5                1.4               0.2   \n",
       "1                4.9               3.0                1.4               0.2   \n",
       "2                4.7               3.2                1.3               0.2   \n",
       "3                4.6               3.1                1.5               0.2   \n",
       "4                5.0               3.6                1.4               0.2   \n",
       "\n",
       "   target  \n",
       "0  setosa  \n",
       "1  setosa  \n",
       "2  setosa  \n",
       "3  setosa  \n",
       "4  setosa  "
      ]
     },
     "execution_count": 2,
     "metadata": {},
     "output_type": "execute_result"
    }
   ],
   "source": [
    "from sklearn.datasets import load_iris\n",
    "from sklearn.decomposition import PCA\n",
    "from sklearn.discriminant_analysis import LinearDiscriminantAnalysis\n",
    "import pandas as pd\n",
    "\n",
    "iris = load_iris()\n",
    "df = pd.DataFrame(iris.data, columns=iris.feature_names).assign(target=[iris.target_names[i] for i in iris.target])\n",
    "df.head()\n"
   ]
  },
  {
   "cell_type": "code",
   "execution_count": 3,
   "metadata": {
    "colab": {
     "base_uri": "https://localhost:8080/",
     "height": 235
    },
    "id": "KVPzoUtoxuS1",
    "outputId": "66d43ebd-a79e-4727-e5c5-e1b49b127294"
   },
   "outputs": [
    {
     "data": {
      "text/html": [
       "<div>\n",
       "<style scoped>\n",
       "    .dataframe tbody tr th:only-of-type {\n",
       "        vertical-align: middle;\n",
       "    }\n",
       "\n",
       "    .dataframe tbody tr th {\n",
       "        vertical-align: top;\n",
       "    }\n",
       "\n",
       "    .dataframe thead tr th {\n",
       "        text-align: left;\n",
       "    }\n",
       "\n",
       "    .dataframe thead tr:last-of-type th {\n",
       "        text-align: right;\n",
       "    }\n",
       "</style>\n",
       "<table border=\"1\" class=\"dataframe\">\n",
       "  <thead>\n",
       "    <tr>\n",
       "      <th></th>\n",
       "      <th colspan=\"8\" halign=\"left\">sepal length (cm)</th>\n",
       "      <th colspan=\"2\" halign=\"left\">sepal width (cm)</th>\n",
       "      <th>...</th>\n",
       "      <th colspan=\"2\" halign=\"left\">petal length (cm)</th>\n",
       "      <th colspan=\"8\" halign=\"left\">petal width (cm)</th>\n",
       "    </tr>\n",
       "    <tr>\n",
       "      <th></th>\n",
       "      <th>count</th>\n",
       "      <th>mean</th>\n",
       "      <th>std</th>\n",
       "      <th>min</th>\n",
       "      <th>25%</th>\n",
       "      <th>50%</th>\n",
       "      <th>75%</th>\n",
       "      <th>max</th>\n",
       "      <th>count</th>\n",
       "      <th>mean</th>\n",
       "      <th>...</th>\n",
       "      <th>75%</th>\n",
       "      <th>max</th>\n",
       "      <th>count</th>\n",
       "      <th>mean</th>\n",
       "      <th>std</th>\n",
       "      <th>min</th>\n",
       "      <th>25%</th>\n",
       "      <th>50%</th>\n",
       "      <th>75%</th>\n",
       "      <th>max</th>\n",
       "    </tr>\n",
       "    <tr>\n",
       "      <th>target</th>\n",
       "      <th></th>\n",
       "      <th></th>\n",
       "      <th></th>\n",
       "      <th></th>\n",
       "      <th></th>\n",
       "      <th></th>\n",
       "      <th></th>\n",
       "      <th></th>\n",
       "      <th></th>\n",
       "      <th></th>\n",
       "      <th></th>\n",
       "      <th></th>\n",
       "      <th></th>\n",
       "      <th></th>\n",
       "      <th></th>\n",
       "      <th></th>\n",
       "      <th></th>\n",
       "      <th></th>\n",
       "      <th></th>\n",
       "      <th></th>\n",
       "      <th></th>\n",
       "    </tr>\n",
       "  </thead>\n",
       "  <tbody>\n",
       "    <tr>\n",
       "      <th>setosa</th>\n",
       "      <td>50.0</td>\n",
       "      <td>5.006</td>\n",
       "      <td>0.352490</td>\n",
       "      <td>4.3</td>\n",
       "      <td>4.800</td>\n",
       "      <td>5.0</td>\n",
       "      <td>5.2</td>\n",
       "      <td>5.8</td>\n",
       "      <td>50.0</td>\n",
       "      <td>3.428</td>\n",
       "      <td>...</td>\n",
       "      <td>1.575</td>\n",
       "      <td>1.9</td>\n",
       "      <td>50.0</td>\n",
       "      <td>0.246</td>\n",
       "      <td>0.105386</td>\n",
       "      <td>0.1</td>\n",
       "      <td>0.2</td>\n",
       "      <td>0.2</td>\n",
       "      <td>0.3</td>\n",
       "      <td>0.6</td>\n",
       "    </tr>\n",
       "    <tr>\n",
       "      <th>versicolor</th>\n",
       "      <td>50.0</td>\n",
       "      <td>5.936</td>\n",
       "      <td>0.516171</td>\n",
       "      <td>4.9</td>\n",
       "      <td>5.600</td>\n",
       "      <td>5.9</td>\n",
       "      <td>6.3</td>\n",
       "      <td>7.0</td>\n",
       "      <td>50.0</td>\n",
       "      <td>2.770</td>\n",
       "      <td>...</td>\n",
       "      <td>4.600</td>\n",
       "      <td>5.1</td>\n",
       "      <td>50.0</td>\n",
       "      <td>1.326</td>\n",
       "      <td>0.197753</td>\n",
       "      <td>1.0</td>\n",
       "      <td>1.2</td>\n",
       "      <td>1.3</td>\n",
       "      <td>1.5</td>\n",
       "      <td>1.8</td>\n",
       "    </tr>\n",
       "    <tr>\n",
       "      <th>virginica</th>\n",
       "      <td>50.0</td>\n",
       "      <td>6.588</td>\n",
       "      <td>0.635880</td>\n",
       "      <td>4.9</td>\n",
       "      <td>6.225</td>\n",
       "      <td>6.5</td>\n",
       "      <td>6.9</td>\n",
       "      <td>7.9</td>\n",
       "      <td>50.0</td>\n",
       "      <td>2.974</td>\n",
       "      <td>...</td>\n",
       "      <td>5.875</td>\n",
       "      <td>6.9</td>\n",
       "      <td>50.0</td>\n",
       "      <td>2.026</td>\n",
       "      <td>0.274650</td>\n",
       "      <td>1.4</td>\n",
       "      <td>1.8</td>\n",
       "      <td>2.0</td>\n",
       "      <td>2.3</td>\n",
       "      <td>2.5</td>\n",
       "    </tr>\n",
       "  </tbody>\n",
       "</table>\n",
       "<p>3 rows × 32 columns</p>\n",
       "</div>"
      ],
      "text/plain": [
       "           sepal length (cm)                                              \\\n",
       "                       count   mean       std  min    25%  50%  75%  max   \n",
       "target                                                                     \n",
       "setosa                  50.0  5.006  0.352490  4.3  4.800  5.0  5.2  5.8   \n",
       "versicolor              50.0  5.936  0.516171  4.9  5.600  5.9  6.3  7.0   \n",
       "virginica               50.0  6.588  0.635880  4.9  6.225  6.5  6.9  7.9   \n",
       "\n",
       "           sepal width (cm)         ... petal length (cm)       \\\n",
       "                      count   mean  ...               75%  max   \n",
       "target                              ...                          \n",
       "setosa                 50.0  3.428  ...             1.575  1.9   \n",
       "versicolor             50.0  2.770  ...             4.600  5.1   \n",
       "virginica              50.0  2.974  ...             5.875  6.9   \n",
       "\n",
       "           petal width (cm)                                            \n",
       "                      count   mean       std  min  25%  50%  75%  max  \n",
       "target                                                                 \n",
       "setosa                 50.0  0.246  0.105386  0.1  0.2  0.2  0.3  0.6  \n",
       "versicolor             50.0  1.326  0.197753  1.0  1.2  1.3  1.5  1.8  \n",
       "virginica              50.0  2.026  0.274650  1.4  1.8  2.0  2.3  2.5  \n",
       "\n",
       "[3 rows x 32 columns]"
      ]
     },
     "execution_count": 3,
     "metadata": {},
     "output_type": "execute_result"
    }
   ],
   "source": [
    "\n",
    "iris_agg = df.groupby('target').describe()\n",
    "iris_agg"
   ]
  },
  {
   "cell_type": "code",
   "execution_count": null,
   "metadata": {
    "id": "_hw9S8U-xvVP"
   },
   "outputs": [],
   "source": []
  },
  {
   "cell_type": "code",
   "execution_count": 4,
   "metadata": {
    "id": "1jXQe4Xyvwbt"
   },
   "outputs": [],
   "source": [
    "# Run this cell whenever you need to save the artifact \n",
    "\n",
    "artifact = lineapy.save(iris_agg, 'iris agg')"
   ]
  },
  {
   "cell_type": "code",
   "execution_count": null,
   "metadata": {
    "id": "EYDgag9fx1_-"
   },
   "outputs": [],
   "source": []
  },
  {
   "cell_type": "markdown",
   "metadata": {
    "id": "7KLg5ziJ3yw2"
   },
   "source": [
    "## Create a pipeline from an artifact\n",
    "\n",
    "\n",
    "\n"
   ]
  },
  {
   "cell_type": "code",
   "execution_count": 5,
   "metadata": {
    "colab": {
     "base_uri": "https://localhost:8080/",
     "height": 135
    },
    "id": "3czXCWyRsMR_",
    "outputId": "ebd13062-06e4-42eb-9c30-8614ce58e3f8"
   },
   "outputs": [
    {
     "data": {
      "text/html": [
       "<pre style=\"white-space:pre;overflow-x:auto;line-height:normal;font-family:Menlo,'DejaVu Sans Mono',consolas,'Courier New',monospace\">Pipeline source generated in the directory: python_script                                    \n",
       "</pre>\n"
      ],
      "text/plain": [
       "Pipeline source generated in the directory: python_script                                    \n"
      ]
     },
     "metadata": {},
     "output_type": "display_data"
    },
    {
     "data": {
      "text/html": [
       "<pre style=\"white-space:pre;overflow-x:auto;line-height:normal;font-family:Menlo,'DejaVu Sans Mono',consolas,'Courier New',monospace\">Generated python module iris_aggregation_script_pipeline.py                                  \n",
       "</pre>\n"
      ],
      "text/plain": [
       "Generated python module iris_aggregation_script_pipeline.py                                  \n"
      ]
     },
     "metadata": {},
     "output_type": "display_data"
    },
    {
     "data": {
      "text/html": [
       "<pre style=\"white-space:pre;overflow-x:auto;line-height:normal;font-family:Menlo,'DejaVu Sans Mono',consolas,'Courier New',monospace\">Generated Dockerfile iris_aggregation_script_pipeline_Dockerfile                             \n",
       "</pre>\n"
      ],
      "text/plain": [
       "Generated Dockerfile iris_aggregation_script_pipeline_Dockerfile                             \n"
      ]
     },
     "metadata": {},
     "output_type": "display_data"
    },
    {
     "data": {
      "text/html": [
       "<pre style=\"white-space:pre;overflow-x:auto;line-height:normal;font-family:Menlo,'DejaVu Sans Mono',consolas,'Courier New',monospace\">Generated requirements file iris_aggregation_script_pipeline_requirements.txt                \n",
       "</pre>\n"
      ],
      "text/plain": [
       "Generated requirements file iris_aggregation_script_pipeline_requirements.txt                \n"
      ]
     },
     "metadata": {},
     "output_type": "display_data"
    },
    {
     "data": {
      "text/html": [
       "<pre style=\"white-space:pre;overflow-x:auto;line-height:normal;font-family:Menlo,'DejaVu Sans Mono',consolas,'Courier New',monospace\">Added Python Script DAG named iris_aggregation_script_pipeline_script_dag.py. Start a run    \n",
       "from the CLI.                                                                                \n",
       "</pre>\n"
      ],
      "text/plain": [
       "Added Python Script DAG named iris_aggregation_script_pipeline_script_dag.py. Start a run    \n",
       "from the CLI.                                                                                \n"
      ]
     },
     "metadata": {},
     "output_type": "display_data"
    },
    {
     "data": {
      "text/plain": [
       "PosixPath('python_script')"
      ]
     },
     "execution_count": 5,
     "metadata": {},
     "output_type": "execute_result"
    }
   ],
   "source": [
    "lineapy.to_pipeline(artifacts=['iris agg'], framework='SCRIPT', pipeline_name='iris_aggregation_script_pipeline', output_dir='python_script')"
   ]
  },
  {
   "cell_type": "code",
   "execution_count": null,
   "metadata": {
    "id": "zycyCIokyZyd"
   },
   "outputs": [],
   "source": []
  },
  {
   "cell_type": "code",
   "execution_count": 6,
   "metadata": {
    "colab": {
     "base_uri": "https://localhost:8080/"
    },
    "id": "X9k6hKmxykaA",
    "outputId": "5f9fa78f-ce97-4b2b-bfff-9a2e31242552"
   },
   "outputs": [
    {
     "name": "stdout",
     "output_type": "stream",
     "text": [
      "validate lineapy has created all pipeline required files\n",
      "--------------------------------------------------------------------\n",
      "total 0\n",
      "-rwxrwxrwx 1 mlee mlee 281 May 11 17:14 iris_aggregation_script_pipeline.py\n",
      "-rwxrwxrwx 1 mlee mlee 368 May 11 17:14 iris_aggregation_script_pipeline_Dockerfile\n",
      "-rwxrwxrwx 1 mlee mlee  89 May 11 17:14 iris_aggregation_script_pipeline_requirements.txt\n",
      "-rwxrwxrwx 1 mlee mlee 128 May 11 17:14 iris_aggregation_script_pipeline_script_dag.py\n",
      "\n",
      "\n",
      "--------------------------------------------------------------------\n",
      "python module: iris_aggregation_script_pipeline\n",
      "--------------------------------------------------------------------\n",
      "import pandas as pd\n",
      "from sklearn.datasets import load_iris\n",
      "\n",
      "\n",
      "def iris_agg():\n",
      "    iris = load_iris()\n",
      "    df = pd.DataFrame(iris.data, columns=iris.feature_names).assign(\n",
      "        target=[iris.target_names[i] for i in iris.target]\n",
      "    )\n",
      "    iris_agg = df.groupby(\"target\").describe()\n",
      "\n",
      "\n",
      "--------------------------------------------------------------------\n",
      "pipeline script: iris_aggregation_script_pipeline_script_dag\n",
      "--------------------------------------------------------------------\n",
      "import os\n",
      "\n",
      "import iris_aggregation_script_pipeline\n",
      "\n",
      "if __name__ == \"__main__\":\n",
      "\n",
      "    iris_aggregation_script_pipeline.iris_agg()\n",
      "--------------------------------------------------------------------\n"
     ]
    }
   ],
   "source": [
    "%%sh\n",
    "echo 'validate lineapy has created all pipeline required files'\n",
    "echo '--------------------------------------------------------------------'\n",
    "ls -ltrh python_script\n",
    "echo '\\n'\n",
    "echo '--------------------------------------------------------------------'\n",
    "echo 'python module: iris_aggregation_script_pipeline'\n",
    "echo '--------------------------------------------------------------------'\n",
    "cat python_script/iris_aggregation_script_pipeline.py\n",
    "echo '\\n'\n",
    "echo '--------------------------------------------------------------------'\n",
    "echo 'pipeline script: iris_aggregation_script_pipeline_script_dag'\n",
    "echo '--------------------------------------------------------------------'\n",
    "cat python_script/iris_aggregation_script_pipeline_script_dag.py\n",
    "echo '--------------------------------------------------------------------'\n"
   ]
  },
  {
   "cell_type": "markdown",
   "metadata": {
    "id": "znkJliRd0w1v"
   },
   "source": [
    "# Execute the pipeline from command line\n",
    "\n",
    "```bash\n",
    "python python_script/iris_aggregation_script_pipeline_script_dag.py\n",
    "```"
   ]
  },
  {
   "cell_type": "code",
   "execution_count": 7,
   "metadata": {
    "colab": {
     "base_uri": "https://localhost:8080/",
     "height": 135
    },
    "id": "hiDOXXBy1WG7",
    "outputId": "e613fc58-8d7e-4121-8a35-b1fddc884720"
   },
   "outputs": [
    {
     "data": {
      "text/html": [
       "<pre style=\"white-space:pre;overflow-x:auto;line-height:normal;font-family:Menlo,'DejaVu Sans Mono',consolas,'Courier New',monospace\">Pipeline source generated in the directory: iris_airflow                                     \n",
       "</pre>\n"
      ],
      "text/plain": [
       "Pipeline source generated in the directory: iris_airflow                                     \n"
      ]
     },
     "metadata": {},
     "output_type": "display_data"
    },
    {
     "data": {
      "text/html": [
       "<pre style=\"white-space:pre;overflow-x:auto;line-height:normal;font-family:Menlo,'DejaVu Sans Mono',consolas,'Courier New',monospace\">Generated python module iris_aggregation_airflow_pipeline.py                                 \n",
       "</pre>\n"
      ],
      "text/plain": [
       "Generated python module iris_aggregation_airflow_pipeline.py                                 \n"
      ]
     },
     "metadata": {},
     "output_type": "display_data"
    },
    {
     "data": {
      "text/html": [
       "<pre style=\"white-space:pre;overflow-x:auto;line-height:normal;font-family:Menlo,'DejaVu Sans Mono',consolas,'Courier New',monospace\">Generated Dockerfile iris_aggregation_airflow_pipeline_Dockerfile                            \n",
       "</pre>\n"
      ],
      "text/plain": [
       "Generated Dockerfile iris_aggregation_airflow_pipeline_Dockerfile                            \n"
      ]
     },
     "metadata": {},
     "output_type": "display_data"
    },
    {
     "data": {
      "text/html": [
       "<pre style=\"white-space:pre;overflow-x:auto;line-height:normal;font-family:Menlo,'DejaVu Sans Mono',consolas,'Courier New',monospace\">Generated requirements file iris_aggregation_airflow_pipeline_requirements.txt               \n",
       "</pre>\n"
      ],
      "text/plain": [
       "Generated requirements file iris_aggregation_airflow_pipeline_requirements.txt               \n"
      ]
     },
     "metadata": {},
     "output_type": "display_data"
    },
    {
     "data": {
      "text/html": [
       "<pre style=\"white-space:pre;overflow-x:auto;line-height:normal;font-family:Menlo,'DejaVu Sans Mono',consolas,'Courier New',monospace\">Added Airflow DAG named iris_aggregation_airflow_pipeline_dag. Start a run from the Airflow  \n",
       "UI or CLI.                                                                                   \n",
       "</pre>\n"
      ],
      "text/plain": [
       "Added Airflow DAG named iris_aggregation_airflow_pipeline_dag. Start a run from the Airflow  \n",
       "UI or CLI.                                                                                   \n"
      ]
     },
     "metadata": {},
     "output_type": "display_data"
    },
    {
     "data": {
      "text/plain": [
       "PosixPath('iris_airflow')"
      ]
     },
     "execution_count": 7,
     "metadata": {},
     "output_type": "execute_result"
    }
   ],
   "source": [
    "lineapy.to_pipeline(artifacts=['iris agg'], framework='AIRFLOW', pipeline_name='iris_aggregation_airflow_pipeline', output_dir='iris_airflow')"
   ]
  },
  {
   "cell_type": "code",
   "execution_count": 9,
   "metadata": {
    "colab": {
     "base_uri": "https://localhost:8080/"
    },
    "id": "UL4DISXG1cEh",
    "outputId": "7be45a52-a2a1-423e-c4ae-40920e0e17bc"
   },
   "outputs": [
    {
     "name": "stdout",
     "output_type": "stream",
     "text": [
      "validate lineapy has created all pipeline required files\n",
      "--------------------------------------------------------------------\n",
      "total 4.0K\n",
      "-rwxrwxrwx 1 mlee mlee 281 May 11 17:14 iris_aggregation_airflow_pipeline.py\n",
      "-rwxrwxrwx 1 mlee mlee 370 May 11 17:14 iris_aggregation_airflow_pipeline_Dockerfile\n",
      "-rwxrwxrwx 1 mlee mlee  89 May 11 17:14 iris_aggregation_airflow_pipeline_requirements.txt\n",
      "-rwxrwxrwx 1 mlee mlee 578 May 11 17:14 iris_aggregation_airflow_pipeline_dag.py\n",
      "\n",
      "\n",
      "--------------------------------------------------------------------\n",
      "python module: iris_aggregation_script_pipeline\n",
      "--------------------------------------------------------------------\n",
      "import pandas as pd\n",
      "from sklearn.datasets import load_iris\n",
      "\n",
      "\n",
      "def iris_agg():\n",
      "    iris = load_iris()\n",
      "    df = pd.DataFrame(iris.data, columns=iris.feature_names).assign(\n",
      "        target=[iris.target_names[i] for i in iris.target]\n",
      "    )\n",
      "    iris_agg = df.groupby(\"target\").describe()\n",
      "\n",
      "\n",
      "--------------------------------------------------------------------\n",
      "pipeline script: iris_aggregation_script_pipeline_script_dag\n",
      "--------------------------------------------------------------------\n",
      "import os\n",
      "\n",
      "import iris_aggregation_airflow_pipeline\n",
      "from airflow import DAG\n",
      "from airflow.operators.python_operator import PythonOperator\n",
      "from airflow.utils.dates import days_ago\n",
      "\n",
      "default_dag_args = {\"owner\": \"airflow\", \"retries\": 2, \"start_date\": days_ago(1)}\n",
      "\n",
      "dag = DAG(\n",
      "    dag_id=\"iris_aggregation_airflow_pipeline_dag\",\n",
      "    schedule_interval=\"*/15 * * * *\",\n",
      "    max_active_runs=1,\n",
      "    catchup=False,\n",
      "    default_args=default_dag_args,\n",
      ")\n",
      "\n",
      "\n",
      "iris_agg = PythonOperator(\n",
      "    dag=dag,\n",
      "    task_id=\"iris_agg_task\",\n",
      "    python_callable=iris_aggregation_airflow_pipeline.iris_agg,\n",
      ")\n",
      "--------------------------------------------------------------------\n"
     ]
    }
   ],
   "source": [
    "%%sh\n",
    "echo 'validate lineapy has created all pipeline required files'\n",
    "echo '--------------------------------------------------------------------'\n",
    "ls -ltrh iris_airflow\n",
    "echo '\\n'\n",
    "echo '--------------------------------------------------------------------'\n",
    "echo 'python module: iris_aggregation_script_pipeline'\n",
    "echo '--------------------------------------------------------------------'\n",
    "cat iris_airflow/iris_aggregation_airflow_pipeline.py\n",
    "echo '\\n'\n",
    "echo '--------------------------------------------------------------------'\n",
    "echo 'pipeline script: iris_aggregation_script_pipeline_script_dag'\n",
    "echo '--------------------------------------------------------------------'\n",
    "cat iris_airflow/iris_aggregation_airflow_pipeline_dag.py\n",
    "echo '--------------------------------------------------------------------'\n"
   ]
  },
  {
   "cell_type": "markdown",
   "metadata": {
    "id": "uEwKlLaX1Wqp"
   },
   "source": [
    "lineapy.to_pipeline(artifacts=['iris agg'], framework='SCRIPT', pipeline_name='iris_aggregation_script_pipeline', output_dir='python_script')"
   ]
  },
  {
   "cell_type": "code",
   "execution_count": null,
   "metadata": {
    "id": "yBWTqxpQf8eZ"
   },
   "outputs": [],
   "source": []
  }
 ],
 "metadata": {
  "colab": {
   "collapsed_sections": [],
   "name": "Scenario - create pipeline with LineaPy ",
   "provenance": []
  },
  "kernelspec": {
   "display_name": "Python 3 (ipykernel)",
   "language": "python",
   "name": "python3"
  },
  "language_info": {
   "codemirror_mode": {
    "name": "ipython",
    "version": 3
   },
   "file_extension": ".py",
   "mimetype": "text/x-python",
   "name": "python",
   "nbconvert_exporter": "python",
   "pygments_lexer": "ipython3",
   "version": "3.9.11"
  }
 },
 "nbformat": 4,
 "nbformat_minor": 1
}
